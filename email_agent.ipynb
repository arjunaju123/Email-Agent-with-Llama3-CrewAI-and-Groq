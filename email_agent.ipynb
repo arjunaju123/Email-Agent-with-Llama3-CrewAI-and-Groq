{
 "cells": [
  {
   "cell_type": "code",
   "execution_count": 1,
   "metadata": {},
   "outputs": [
    {
     "name": "stdout",
     "output_type": "stream",
     "text": [
      "OK\n"
     ]
    }
   ],
   "source": [
    "print(\"OK\")"
   ]
  },
  {
   "cell_type": "markdown",
   "metadata": {},
   "source": [
    "# The goal\n",
    "\n",
    "Reply to a customer email\n",
    "1. get the email\n",
    "2. categorize this as a \"sales\", \"custom enquiry\", \"off topic\", \"customer complaint\"\n",
    "3. use the category to research info needed for the reply\n",
    "4. take the info and check if there is enough to answer the email\n",
    "5. write a reply\n",
    "6. check the reply\n",
    "7. save the email\n",
    "\n",
    "### Agents\n",
    "- categorizer\n",
    "- researcher (web for now would be internal RAG)\n",
    "- email writer\n",
    "\n",
    "\n",
    "### Tasks\n",
    "- categorize email\n",
    "- research the answer\n",
    "- write the email"
   ]
  },
  {
   "cell_type": "code",
   "execution_count": 3,
   "metadata": {},
   "outputs": [],
   "source": [
    "import os\n",
    "from dotenv import load_dotenv\n",
    "load_dotenv()\n",
    "\n",
    "groq_api_key=os.environ[\"GROQ_API_KEY\"]"
   ]
  },
  {
   "cell_type": "markdown",
   "metadata": {},
   "source": [
    "## Utilities"
   ]
  },
  {
   "cell_type": "code",
   "execution_count": 5,
   "metadata": {},
   "outputs": [],
   "source": [
    "import json  # Import the JSON module to parse JSON strings\n",
    "from langchain_core.agents import AgentFinish\n",
    "\n",
    "agent_finishes  = []\n",
    "\n",
    "import json\n",
    "from typing import Union, List, Tuple, Dict\n",
    "from langchain.schema import AgentFinish\n",
    "\n",
    "call_number = 0\n",
    "\n",
    "def print_agent_output(agent_output: Union[str, List[Tuple[Dict, str]], AgentFinish], agent_name: str = 'Generic call'):\n",
    "    global call_number  # Declare call_number as a global variable\n",
    "    call_number += 1\n",
    "    with open(\"crew_callback_logs.txt\", \"a\") as log_file:\n",
    "        # Try to parse the output if it is a JSON string\n",
    "        if isinstance(agent_output, str):\n",
    "            try:\n",
    "                agent_output = json.loads(agent_output)  # Attempt to parse the JSON string\n",
    "            except json.JSONDecodeError:\n",
    "                pass  # If there's an error, leave agent_output as is\n",
    "\n",
    "        # Check if the output is a list of tuples as in the first case\n",
    "        if isinstance(agent_output, list) and all(isinstance(item, tuple) for item in agent_output):\n",
    "            print(f\"-{call_number}----Dict------------------------------------------\", file=log_file)\n",
    "            for action, description in agent_output:\n",
    "                # Print attributes based on assumed structure\n",
    "                print(f\"Agent Name: {agent_name}\", file=log_file)\n",
    "                print(f\"Tool used: {getattr(action, 'tool', 'Unknown')}\", file=log_file)\n",
    "                print(f\"Tool input: {getattr(action, 'tool_input', 'Unknown')}\", file=log_file)\n",
    "                print(f\"Action log: {getattr(action, 'log', 'Unknown')}\", file=log_file)\n",
    "                print(f\"Description: {description}\", file=log_file)\n",
    "                print(\"--------------------------------------------------\", file=log_file)\n",
    "\n",
    "        # Check if the output is a dictionary as in the second case\n",
    "        elif isinstance(agent_output, AgentFinish):\n",
    "            print(f\"-{call_number}----AgentFinish---------------------------------------\", file=log_file)\n",
    "            print(f\"Agent Name: {agent_name}\", file=log_file)\n",
    "            agent_finishes.append(agent_output)\n",
    "            # Extracting 'output' and 'log' from the nested 'return_values' if they exist\n",
    "            output = agent_output.return_values\n",
    "            # log = agent_output.get('log', 'No log available')\n",
    "            print(f\"AgentFinish Output: {output['output']}\", file=log_file)\n",
    "            # print(f\"Log: {log}\", file=log_file)\n",
    "            # print(f\"AgentFinish: {agent_output}\", file=log_file)\n",
    "            print(\"--------------------------------------------------\", file=log_file)\n",
    "\n",
    "        # Handle unexpected formats\n",
    "        else:\n",
    "            # If the format is unknown, print out the input directly\n",
    "            print(f\"-{call_number}-Unknown format of agent_output:\", file=log_file)\n",
    "            print(type(agent_output), file=log_file)\n",
    "            print(agent_output, file=log_file)\n"
   ]
  },
  {
   "cell_type": "code",
   "execution_count": 6,
   "metadata": {},
   "outputs": [],
   "source": [
    "from langchain_groq import ChatGroq\n",
    "\n",
    "GROQ_LLM = ChatGroq(\n",
    "            # api_key=os.getenv(\"GROQ_API_KEY\"),\n",
    "            model=\"llama3-70b-8192\"\n",
    "        )"
   ]
  },
  {
   "cell_type": "markdown",
   "metadata": {},
   "source": [
    "## Tools"
   ]
  },
  {
   "cell_type": "code",
   "execution_count": 7,
   "metadata": {},
   "outputs": [],
   "source": [
    "from crewai import Crew, Agent, Task, Process\n",
    "from langchain_community.tools import DuckDuckGoSearchRun"
   ]
  },
  {
   "cell_type": "code",
   "execution_count": 8,
   "metadata": {},
   "outputs": [],
   "source": [
    "from datetime import datetime\n",
    "from random import randint\n",
    "from langchain.tools import tool"
   ]
  },
  {
   "cell_type": "code",
   "execution_count": 9,
   "metadata": {},
   "outputs": [],
   "source": [
    "import json\n",
    "import os\n",
    "\n",
    "import requests\n",
    "from langchain.tools import tool\n",
    "\n",
    "import os\n",
    "from crewai import Agent, Task, Crew, Process\n",
    "from langchain_community.tools import DuckDuckGoSearchRun\n",
    "from langchain.agents import load_tools\n",
    "\n",
    "search_tool = DuckDuckGoSearchRun()\n"
   ]
  },
  {
   "cell_type": "code",
   "execution_count": 12,
   "metadata": {},
   "outputs": [
    {
     "data": {
      "text/plain": [
       "'When do EURO 2024 tickets go on sale? The latest UEFA EURO 2024 ticketing information can be found here.. EURO 2024 key dates. Final tournament 14 June 2024: UEFA EURO 2024 opening game, Munich ... Dates: 14 June - 14 July: Teams: 24: Venue(s) 10 (in 10 host cities) ← 2020. 2028 → . The 2024 UEFA European Football Championship, commonly referred to as UEFA Euro 2024 (stylised as UEFA EURO 2024) or simply Euro 2024, will be the 17th ... Here are the key dates for the Euro 2024 tournament: ADVERTISEMENT. Group stage: June 14 to June 26. Round of 16: June 29 to July 2. Quarterfinals: July 5 and 6. Semifinals: July 9 and 10. Final ... Find out the dates, venues and kick-off times for Euro 2024, the biggest soccer tournament in Europe. See the knockout bracket and follow your favorite teams on ESPN. Three-time winners Germany will stage the UEFA European Championship in 2024. Live 04/04/2024 EURO 2024: Host cities Get the lowdown on the EURO 2024 host cities and stadiums with our venue guides'"
      ]
     },
     "execution_count": 12,
     "metadata": {},
     "output_type": "execute_result"
    },
    {
     "name": "stderr",
     "output_type": "stream",
     "text": [
      "c:\\Users\\arjun.sreekumar\\AppData\\Local\\anaconda3\\envs\\email_agent\\lib\\site-packages\\curl_cffi\\aio.py:204: UserWarning: Curlm alread closed! quitting from process_data\n",
      "  warnings.warn(\"Curlm alread closed! quitting from process_data\")\n"
     ]
    }
   ],
   "source": [
    "search_tool.run(\"2024 euro cup date\")"
   ]
  },
  {
   "cell_type": "markdown",
   "metadata": {},
   "source": [
    "## Agents"
   ]
  },
  {
   "cell_type": "code",
   "execution_count": 13,
   "metadata": {},
   "outputs": [],
   "source": [
    "class EmailAgents():\n",
    "    def make_categorizer_agent(self):\n",
    "        return Agent(\n",
    "            role='Email Categorizer Agent',\n",
    "            goal=\"\"\"take in a email from a human that has emailed out company email address and categorize it \\\n",
    "            into one of the following categories: \\\n",
    "            price_equiry - used when someone is asking for information about pricing \\\n",
    "            customer_complaint - used when someone is complaining about something \\\n",
    "            product_enquiry - used when someone is asking for information about a product feature, benefit or service but not about pricing \\\\\n",
    "            customer_feedback - used when someone is giving feedback about a product \\\n",
    "            off_topic when it doesnt relate to any other category \"\"\",\n",
    "            backstory=\"\"\"You are a master at understanding what a customer wants when they write an email and are able to categorize it in a useful way\"\"\",\n",
    "            llm=GROQ_LLM,\n",
    "            verbose=True,\n",
    "            allow_delegation=False,\n",
    "            max_iter=5,\n",
    "            memory=True,\n",
    "            step_callback=lambda x: print_agent_output(x,\"Email Categorizer Agent\"),\n",
    "        )\n",
    "\n",
    "    def make_researcher_agent(self):\n",
    "        return Agent(\n",
    "            role='Info Researcher Agent',\n",
    "            goal=\"\"\"take in a email from a human that has emailed out company email address and the category \\\n",
    "            that the categorizer agent gave it and decide what information you need to search for for the email writer to reply to \\\n",
    "            the email in a thoughtful and helpful way.\n",
    "            If you DONT think a search will help just reply 'NO SEARCH NEEDED'\n",
    "            If you dont find any useful info just reply 'NO USEFUL RESESARCH FOUND'\n",
    "            otherwise reply with the info you found that is useful for the email writer\n",
    "            \"\"\",\n",
    "            backstory=\"\"\"You are a master at understanding what information our email writer needs  to write a reply that \\\n",
    "            will help the customer\"\"\",\n",
    "            llm=GROQ_LLM,\n",
    "            verbose=True,\n",
    "            max_iter=5,\n",
    "            allow_delegation=False,\n",
    "            memory=True,\n",
    "            tools=[search_tool],\n",
    "            step_callback=lambda x: print_agent_output(x,\"Info Researcher Agent\"),\n",
    "        )\n",
    "\n",
    "    def make_email_writer_agent(self):\n",
    "        return Agent(\n",
    "            role='Email Writer Agent',\n",
    "            goal=\"\"\"take in a email from a human that has emailed out company email address, the category \\\n",
    "            that the categorizer agent gave it and the research from the research agent and \\\n",
    "            write a helpful email in a thoughtful and friendly way.\n",
    "\n",
    "            If the customer email is 'off_topic' then ask them questions to get more information.\n",
    "            If the customer email is 'customer_complaint' then try to assure we value them and that we are addressing their issues.\n",
    "            If the customer email is 'customer_feedback' then try to assure we value them and that we are addressing their issues.\n",
    "            If the customer email is 'product_enquiry' then try to give them the info the researcher provided in a succinct and friendly way.\n",
    "            If the customer email is 'price_equiry' then try to give the pricing info they requested.\n",
    "\n",
    "            You never make up information. that hasn't been provided by the researcher or in the email.\n",
    "            Always sign off the emails in appropriate manner and from Sarah the Resident Manager.\n",
    "            \"\"\",\n",
    "            backstory=\"\"\"You are a master at synthesizing a variety of information and writing a helpful email \\\n",
    "            that will address the customer's issues and provide them with helpful information\"\"\",\n",
    "            llm=GROQ_LLM,\n",
    "            verbose=True,\n",
    "            allow_delegation=False,\n",
    "            max_iter=5,\n",
    "            memory=True,\n",
    "            step_callback=lambda x: print_agent_output(x,\"Email Writer Agent\"),\n",
    "        )\n",
    "\n"
   ]
  },
  {
   "cell_type": "markdown",
   "metadata": {},
   "source": [
    "## Tasks"
   ]
  },
  {
   "cell_type": "code",
   "execution_count": 14,
   "metadata": {},
   "outputs": [],
   "source": [
    "class EmailTasks():\n",
    "    # Define your tasks with descriptions and expected outputs\n",
    "    def categorize_email(self, email_content):\n",
    "        return Task(\n",
    "            description=f\"\"\"Conduct a comprehensive analysis of the email provided and categorize into \\\n",
    "            one of the following categories:\n",
    "            price_equiry - used when someone is asking for information about pricing \\\n",
    "            customer_complaint - used when someone is complaining about something \\\n",
    "            product_enquiry - used when someone is asking for information about a product feature, benefit or service but not about pricing \\\\\n",
    "            customer_feedback - used when someone is giving feedback about a product \\\n",
    "            off_topic when it doesnt relate to any other category \\\n",
    "\n",
    "            EMAIL CONTENT:\\n\\n {email_content} \\n\\n\n",
    "            Output a single cetgory only\"\"\",\n",
    "            expected_output=\"\"\"A single categtory for the type of email from the types ('price_equiry', 'customer_complaint', 'product_enquiry', 'customer_feedback', 'off_topic') \\\n",
    "            eg:\n",
    "            'price_enquiry' \\\n",
    "            \"\"\",\n",
    "            output_file=f\"email_category.txt\",\n",
    "            agent=categorizer_agent\n",
    "            )\n",
    "\n",
    "    def research_info_for_email(self, email_content):\n",
    "        return Task(\n",
    "            description=f\"\"\"Conduct a comprehensive analysis of the email provided and the category \\\n",
    "            provided and search the web to find info needed to respond to the email\n",
    "\n",
    "            EMAIL CONTENT:\\n\\n {email_content} \\n\\n\n",
    "            Only provide the info needed DONT try to write the email\"\"\",\n",
    "            expected_output=\"\"\"A set of bullet points of useful info for the email writer \\\n",
    "            or clear instructions that no useful material was found.\"\"\",\n",
    "            context = [categorize_email],\n",
    "            output_file=f\"research_info.txt\",\n",
    "            agent=researcher_agent\n",
    "            )\n",
    "\n",
    "    def draft_email(self, email_content):\n",
    "        return Task(\n",
    "            description=f\"\"\"Conduct a comprehensive analysis of the email provided, the category provided\\\n",
    "            and the info provided from the research specialist to write an email. \\\n",
    "\n",
    "            Write a simple, polite and too the point email which will respond to the customer's email. \\\n",
    "            If useful use the info provided from the research specialist in the email. \\\n",
    "\n",
    "            If no useful info was provided from the research specialist the answer politely but don't make up info. \\\n",
    "\n",
    "            EMAIL CONTENT:\\n\\n {email_content} \\n\\n\n",
    "            Output a single cetgory only\"\"\",\n",
    "            expected_output=\"\"\"A well crafted email for the customer that addresses their issues and concerns\"\"\",\n",
    "            context = [categorize_email, research_info_for_email],\n",
    "            agent=email_writer_agent,\n",
    "            output_file=f\"draft_email.txt\",\n",
    "            )"
   ]
  },
  {
   "cell_type": "markdown",
   "metadata": {},
   "source": [
    "## Instantiate Agents and Tasks"
   ]
  },
  {
   "cell_type": "code",
   "execution_count": 15,
   "metadata": {},
   "outputs": [],
   "source": [
    "# EMAIL = \"\"\"HI there, \\n\n",
    "# I am emailing to find out the current price of Bitcoin. \\n\n",
    "\n",
    "# Can you please help me/\n",
    "\n",
    "# Thanks,\n",
    "# John\n",
    "# \"\"\"\n",
    "\n",
    "EMAIL = \"\"\"HI there, \\n\n",
    "I am emailing to say that I had a wonderful stay at your resort last week. \\n\n",
    "\n",
    "I really appreaciate what your staff did\n",
    "\n",
    "Thanks,\n",
    "Paul\n",
    "\"\"\"\n",
    "\n",
    "EMAIL = \"\"\"HI there, \\n\n",
    "I am emailing to say that the resort weather was way to cloudy and overcast. \\n\n",
    "I wanted to write a song called 'Here comes the sun but it never came'\n",
    "\n",
    "What should be the weather in Arizona in April?\n",
    "\n",
    "I really hope you fix this next time.\n",
    "\n",
    "Thanks,\n",
    "George\n",
    "\"\"\"\n",
    "\n",
    "EMAIL = \"\"\"HI there, \\n\n",
    "Why can't I get to sing?\n",
    "\n",
    "Thanks,\n",
    "Ringo\n",
    "\"\"\""
   ]
  },
  {
   "cell_type": "code",
   "execution_count": 16,
   "metadata": {},
   "outputs": [],
   "source": [
    "##\n",
    "agents = EmailAgents()\n",
    "tasks = EmailTasks()\n",
    "\n",
    "## Agents\n",
    "categorizer_agent = agents.make_categorizer_agent()\n",
    "researcher_agent = agents.make_researcher_agent()\n",
    "email_writer_agent = agents.make_email_writer_agent()\n",
    "\n",
    "## Tasks\n",
    "categorize_email = tasks.categorize_email(EMAIL)\n",
    "research_info_for_email = tasks.research_info_for_email(EMAIL)\n",
    "draft_email = tasks.draft_email(EMAIL)\n"
   ]
  },
  {
   "cell_type": "markdown",
   "metadata": {},
   "source": [
    "## Crew"
   ]
  },
  {
   "cell_type": "markdown",
   "metadata": {},
   "source": [
    "crew.ai, one of the emerging frameworks for building multi-agent application. Crew.ai provides a framework for building agents to work together seamlessly, tackling complex tasks with a level of sophistication that mirrors the dynamics of a well-oiled team. Crew.AI is designed to enable AI agents to assume roles, share goals, and operate in a cohesive unit."
   ]
  },
  {
   "cell_type": "markdown",
   "metadata": {},
   "source": [
    "### Architecture\n",
    "The architecture of CrewAI is modular, comprising several key components working together to achieve a well-orchestrated multi-agent system. The following picture shows the key components that provide a framework to build multi-agent LLM applications.\n",
    "\n",
    "![Image Title](assets\\crew.jpg)\n"
   ]
  },
  {
   "cell_type": "markdown",
   "metadata": {},
   "source": [
    "Let's go through this picture bottom up so that we understand how they come together.\n",
    "\n",
    "Tool: A tool object is a utility/equipment that the agents use to perform a specific task efficiently. For example, searching the web, loading documents & reading them, etc. Crewai is built with LangChain, we can use any existing ones from LangChain or we can write our custom tools.\n",
    "\n",
    "Task: Task, as the name suggests, is the specific task that needs to be executed. An Agent performs a task. We provide various tools that are required to execute a task.\n",
    "\n",
    "Agents: An agent is like a team member in the crew, with a specific role, background story, goal, and memory. The agent is the core performer of the tasks assigned within the framework. Each CrewAI Agent is a LangChain Agent, but enhanced with a ReActSingleInputOutputParser. This parser is specially modified to better support role-playing, incorporates a binding stop word for contextual focus, and integrates a memory mechanism, using ConversationSummaryMemory for maintaining the context.\n",
    "\n",
    "Crew: Think of the crew as a team of agents, working together to achieve a particular goal. These agents have a clearly defined way to collaborate to achieve the set of tasks at hand\n",
    "\n",
    "Process: Process object is the workflow or strategy the crew follows to complete tasks. 3 strategies are defined by the framework\n",
    "\n",
    "Sequential: This strategy executes the given “tasks” in sequence, and in a particular defined order. This strategy is ideal for any pipeline type of work, where each agent performs a specific task and passes it to the next agent. We will use this strategy in our example today to write a blog, for a given topic.\n",
    "Hierarchical: This strategy organizes tasks in a hierarchy, and these tasks are delegated in a hierarchical fashion and executed based on chain of command. This is remarkably close to an orchestrator kind of pattern. This is like a manager assigning work to various agents, and validating the results, before completing the work. When we use this strategy, we need to configure a manager_llm, that helps take the right decision. We will be building a solution using this strategy in the next blog.\n",
    "Consensual Process (Planned): This is one of the most popular strategies, which is yet to be released, where we have agents talking to each other to get the work done. This is based on collaborative decision-making and the decisions are taken democratically. This is not yet released, but we have other multi-system frameworks, and have already implemented this strategy. We will explore this in future blogs"
   ]
  },
  {
   "cell_type": "code",
   "execution_count": 17,
   "metadata": {},
   "outputs": [],
   "source": [
    "from crewai import Crew, Process\n",
    "\n",
    "# Instantiate your crew with a sequential process\n",
    "crew = Crew(\n",
    "    agents=[categorizer_agent, researcher_agent, email_writer_agent],\n",
    "    tasks=[categorize_email, research_info_for_email, draft_email],\n",
    "    verbose=2,\n",
    "    process=Process.sequential,\n",
    "    full_output=True,\n",
    "    share_crew=False,\n",
    "    step_callback=lambda x: print_agent_output(x,\"MasterCrew Agent\")\n",
    ")"
   ]
  },
  {
   "cell_type": "code",
   "execution_count": 18,
   "metadata": {},
   "outputs": [
    {
     "name": "stdout",
     "output_type": "stream",
     "text": [
      "\u001b[1m\u001b[95m [DEBUG]: == Working Agent: Email Categorizer Agent\u001b[00m\n",
      "\u001b[1m\u001b[95m [INFO]: == Starting Task: Conduct a comprehensive analysis of the email provided and categorize into             one of the following categories:\n",
      "            price_equiry - used when someone is asking for information about pricing             customer_complaint - used when someone is complaining about something             product_enquiry - used when someone is asking for information about a product feature, benefit or service but not about pricing \\\n",
      "            customer_feedback - used when someone is giving feedback about a product             off_topic when it doesnt relate to any other category \n",
      "            EMAIL CONTENT:\n",
      "\n",
      " HI there, \n",
      "\n",
      "Why can't I get to sing?\n",
      "\n",
      "Thanks,\n",
      "Ringo\n",
      " \n",
      "\n",
      "\n",
      "            Output a single cetgory only\u001b[00m\n",
      "\n",
      "\n",
      "\u001b[1m> Entering new CrewAgentExecutor chain...\u001b[0m\n",
      "\u001b[32;1m\u001b[1;3mThought: After carefully analyzing the email content, I understand that the sender, Ringo, is expressing frustration about not being able to sing, but the email does not relate to any product, service, or pricing inquiry. The tone is more of a personal expression rather than a query or complaint about a specific product or service.\n",
      "\n",
      "Final Answer: off_topic\u001b[0m\n",
      "\n",
      "\u001b[1m> Finished chain.\u001b[0m\n",
      "\u001b[1m\u001b[92m [DEBUG]: == [Email Categorizer Agent] Task output: off_topic\n",
      "\n",
      "\u001b[00m\n",
      "\u001b[1m\u001b[95m [DEBUG]: == Working Agent: Info Researcher Agent\u001b[00m\n",
      "\u001b[1m\u001b[95m [INFO]: == Starting Task: Conduct a comprehensive analysis of the email provided and the category             provided and search the web to find info needed to respond to the email\n",
      "\n",
      "            EMAIL CONTENT:\n",
      "\n",
      " HI there, \n",
      "\n",
      "Why can't I get to sing?\n",
      "\n",
      "Thanks,\n",
      "Ringo\n",
      " \n",
      "\n",
      "\n",
      "            Only provide the info needed DONT try to write the email\u001b[00m\n",
      "\n",
      "\n",
      "\u001b[1m> Entering new CrewAgentExecutor chain...\u001b[0m\n",
      "\u001b[32;1m\u001b[1;3mThought: The email seems to be off-topic and doesn't provide much context. I need to search for information that might be related to the phrase \"Why can't I get to sing?\" to provide a helpful response.\n",
      "\n",
      "Action: duckduckgo_search\n",
      "Action Input: {\"q\": \"can't sing\"}\u001b[0m\u001b[91m \n",
      "\n",
      "I encountered an error while trying to use the tool. This was the error: DuckDuckGoSearchRun._run() got an unexpected keyword argument 'q'.\n",
      " Tool duckduckgo_search accepts these inputs: A wrapper around DuckDuckGo Search. Useful for when you need to answer questions about current events. Input should be a search query.\n",
      "\u001b[00m\n",
      "\u001b[32;1m\u001b[1;3mThought: Let me try again with a corrected input.\n",
      "\n",
      "Action: duckduckgo_search\n",
      "Action Input: \"can't sing\"\u001b[0m\u001b[32;1m\u001b[1;3mThought: I need to try again with a corrected input.\n",
      "\n",
      "Action: duckduckgo_search\n",
      "Action Input: {\"query\": \"can't sing\"}\u001b[0m\u001b[95m \n",
      "\n",
      "The element that causes some people to sing well and others to sing badly are problems with pitch accuracy, also known as intonation. Pitch can be understood as the 'sharpness' of a voice; the higher the pitch, the sharper and shriller the voice sounds. Some people are born with certain innate abilities that melt our hearts or astonish us. The above reasons for thinking that you can't sing can be changed to knowing you can sing. The first step is to realize that you were born with every tool needed to produce a beautiful singing voice. All you have to do is to learn how to use these tools. You deserve a decent singing voice. Solution. I know this might sound a bit unconventional, but if you want to strengthen your core, pole dancing and Yoga are actually great exercises. Many singers have started doing them and have seen a huge improvement in their vocal power. Another important thing for singing is having strong lungs. Gargle salt water. Gargling warm salt water may help treat laryngitis by keeping your throat moist and relieving inflammation. Add 1 teaspoon of salt to a glass of warm water and try gargling two ... About 1.5% of the world's population - or 1 in every 75 people - is affected by a disorder called congenital amusia, which prevents them from hearing a difference in pitch, tone, and rhythm. Virtually anyone else can learn to sing with practice, so don't listen to the nonsense that you don't have the innate talent to sing.\n",
      "\u001b[00m\n",
      "\u001b[32;1m\u001b[1;3mThought: I now know the final answer\n",
      "Final Answer: \n",
      "* Some people may struggle with singing due to pitch accuracy issues, but with practice and exercises, most people can learn to sing.\n",
      "* Innate abilities can be developed and improved with practice and patience.\n",
      "* Certain exercises like pole dancing and yoga can help strengthen core muscles, which can improve vocal power.\n",
      "* Gargling warm salt water can help relieve inflammation and keep the throat moist.\n",
      "* Congenital amusia is a disorder that affects 1 in every 75 people, preventing them from hearing differences in pitch, tone, and rhythm.\n",
      "* With practice, most people can learn to sing, regardless of innate talent.\u001b[0m\n",
      "\n",
      "\u001b[1m> Finished chain.\u001b[0m\n",
      "\u001b[1m\u001b[92m [DEBUG]: == [Info Researcher Agent] Task output: * Some people may struggle with singing due to pitch accuracy issues, but with practice and exercises, most people can learn to sing.\n",
      "* Innate abilities can be developed and improved with practice and patience.\n",
      "* Certain exercises like pole dancing and yoga can help strengthen core muscles, which can improve vocal power.\n",
      "* Gargling warm salt water can help relieve inflammation and keep the throat moist.\n",
      "* Congenital amusia is a disorder that affects 1 in every 75 people, preventing them from hearing differences in pitch, tone, and rhythm.\n",
      "* With practice, most people can learn to sing, regardless of innate talent.\n",
      "\n",
      "\u001b[00m\n",
      "\u001b[1m\u001b[95m [DEBUG]: == Working Agent: Email Writer Agent\u001b[00m\n",
      "\u001b[1m\u001b[95m [INFO]: == Starting Task: Conduct a comprehensive analysis of the email provided, the category provided            and the info provided from the research specialist to write an email. \n",
      "            Write a simple, polite and too the point email which will respond to the customer's email.             If useful use the info provided from the research specialist in the email. \n",
      "            If no useful info was provided from the research specialist the answer politely but don't make up info. \n",
      "            EMAIL CONTENT:\n",
      "\n",
      " HI there, \n",
      "\n",
      "Why can't I get to sing?\n",
      "\n",
      "Thanks,\n",
      "Ringo\n",
      " \n",
      "\n",
      "\n",
      "            Output a single cetgory only\u001b[00m\n",
      "\n",
      "\n",
      "\u001b[1m> Entering new CrewAgentExecutor chain...\u001b[0m\n"
     ]
    },
    {
     "name": "stderr",
     "output_type": "stream",
     "text": [
      "c:\\Users\\arjun.sreekumar\\AppData\\Local\\anaconda3\\envs\\email_agent\\lib\\site-packages\\curl_cffi\\aio.py:204: UserWarning: Curlm alread closed! quitting from process_data\n",
      "  warnings.warn(\"Curlm alread closed! quitting from process_data\")\n"
     ]
    },
    {
     "name": "stdout",
     "output_type": "stream",
     "text": [
      "\u001b[32;1m\u001b[1;3mI now can give a great answer\n",
      "\n",
      "Final Answer:\n",
      "\n",
      "Dear Ringo,\n",
      "\n",
      "Thank you for reaching out to us about your concerns with singing. I understand that it can be frustrating when you're having trouble with pitch accuracy. \n",
      "\n",
      "The good news is that with practice and exercises, most people can learn to sing. Innate abilities can be developed and improved with practice and patience. You might be surprised to know that certain exercises like pole dancing and yoga can even help strengthen your core muscles, which can improve your vocal power.\n",
      "\n",
      "Additionally, gargling warm salt water can help relieve inflammation and keep your throat moist. It's also important to note that congenital amusia, a disorder that affects 1 in every 75 people, can prevent people from hearing differences in pitch, tone, and rhythm. However, with practice, most people can learn to sing, regardless of innate talent.\n",
      "\n",
      "If you're interested in improving your singing, I would recommend exploring exercises and practices that can help you develop your skills. If you have any more specific questions or concerns, please don't hesitate to reach out.\n",
      "\n",
      "Best regards,\n",
      "Sarah the Resident Manager\u001b[0m\n",
      "\n",
      "\u001b[1m> Finished chain.\u001b[0m\n",
      "\u001b[1m\u001b[92m [DEBUG]: == [Email Writer Agent] Task output: Dear Ringo,\n",
      "\n",
      "Thank you for reaching out to us about your concerns with singing. I understand that it can be frustrating when you're having trouble with pitch accuracy. \n",
      "\n",
      "The good news is that with practice and exercises, most people can learn to sing. Innate abilities can be developed and improved with practice and patience. You might be surprised to know that certain exercises like pole dancing and yoga can even help strengthen your core muscles, which can improve your vocal power.\n",
      "\n",
      "Additionally, gargling warm salt water can help relieve inflammation and keep your throat moist. It's also important to note that congenital amusia, a disorder that affects 1 in every 75 people, can prevent people from hearing differences in pitch, tone, and rhythm. However, with practice, most people can learn to sing, regardless of innate talent.\n",
      "\n",
      "If you're interested in improving your singing, I would recommend exploring exercises and practices that can help you develop your skills. If you have any more specific questions or concerns, please don't hesitate to reach out.\n",
      "\n",
      "Best regards,\n",
      "Sarah the Resident Manager\n",
      "\n",
      "\u001b[00m\n",
      "Crew Work Results:\n",
      "{'final_output': \"Dear Ringo,\\n\\nThank you for reaching out to us about your concerns with singing. I understand that it can be frustrating when you're having trouble with pitch accuracy. \\n\\nThe good news is that with practice and exercises, most people can learn to sing. Innate abilities can be developed and improved with practice and patience. You might be surprised to know that certain exercises like pole dancing and yoga can even help strengthen your core muscles, which can improve your vocal power.\\n\\nAdditionally, gargling warm salt water can help relieve inflammation and keep your throat moist. It's also important to note that congenital amusia, a disorder that affects 1 in every 75 people, can prevent people from hearing differences in pitch, tone, and rhythm. However, with practice, most people can learn to sing, regardless of innate talent.\\n\\nIf you're interested in improving your singing, I would recommend exploring exercises and practices that can help you develop your skills. If you have any more specific questions or concerns, please don't hesitate to reach out.\\n\\nBest regards,\\nSarah the Resident Manager\", 'tasks_outputs': [TaskOutput(description=\"Conduct a comprehensive analysis of the email provided and categorize into             one of the following categories:\\n            price_equiry - used when someone is asking for information about pricing             customer_complaint - used when someone is complaining about something             product_enquiry - used when someone is asking for information about a product feature, benefit or service but not about pricing \\\\\\n            customer_feedback - used when someone is giving feedback about a product             off_topic when it doesnt relate to any other category \\n            EMAIL CONTENT:\\n\\n HI there, \\n\\nWhy can't I get to sing?\\n\\nThanks,\\nRingo\\n \\n\\n\\n            Output a single cetgory only\", summary='Conduct a comprehensive analysis of the email provided and categorize...', exported_output='off_topic', raw_output='off_topic'), TaskOutput(description=\"Conduct a comprehensive analysis of the email provided and the category             provided and search the web to find info needed to respond to the email\\n\\n            EMAIL CONTENT:\\n\\n HI there, \\n\\nWhy can't I get to sing?\\n\\nThanks,\\nRingo\\n \\n\\n\\n            Only provide the info needed DONT try to write the email\", summary='Conduct a comprehensive analysis of the email provided and the...', exported_output='* Some people may struggle with singing due to pitch accuracy issues, but with practice and exercises, most people can learn to sing.\\n* Innate abilities can be developed and improved with practice and patience.\\n* Certain exercises like pole dancing and yoga can help strengthen core muscles, which can improve vocal power.\\n* Gargling warm salt water can help relieve inflammation and keep the throat moist.\\n* Congenital amusia is a disorder that affects 1 in every 75 people, preventing them from hearing differences in pitch, tone, and rhythm.\\n* With practice, most people can learn to sing, regardless of innate talent.', raw_output='* Some people may struggle with singing due to pitch accuracy issues, but with practice and exercises, most people can learn to sing.\\n* Innate abilities can be developed and improved with practice and patience.\\n* Certain exercises like pole dancing and yoga can help strengthen core muscles, which can improve vocal power.\\n* Gargling warm salt water can help relieve inflammation and keep the throat moist.\\n* Congenital amusia is a disorder that affects 1 in every 75 people, preventing them from hearing differences in pitch, tone, and rhythm.\\n* With practice, most people can learn to sing, regardless of innate talent.'), TaskOutput(description=\"Conduct a comprehensive analysis of the email provided, the category provided            and the info provided from the research specialist to write an email. \\n            Write a simple, polite and too the point email which will respond to the customer's email.             If useful use the info provided from the research specialist in the email. \\n            If no useful info was provided from the research specialist the answer politely but don't make up info. \\n            EMAIL CONTENT:\\n\\n HI there, \\n\\nWhy can't I get to sing?\\n\\nThanks,\\nRingo\\n \\n\\n\\n            Output a single cetgory only\", summary='Conduct a comprehensive analysis of the email provided, the category...', exported_output=\"Dear Ringo,\\n\\nThank you for reaching out to us about your concerns with singing. I understand that it can be frustrating when you're having trouble with pitch accuracy. \\n\\nThe good news is that with practice and exercises, most people can learn to sing. Innate abilities can be developed and improved with practice and patience. You might be surprised to know that certain exercises like pole dancing and yoga can even help strengthen your core muscles, which can improve your vocal power.\\n\\nAdditionally, gargling warm salt water can help relieve inflammation and keep your throat moist. It's also important to note that congenital amusia, a disorder that affects 1 in every 75 people, can prevent people from hearing differences in pitch, tone, and rhythm. However, with practice, most people can learn to sing, regardless of innate talent.\\n\\nIf you're interested in improving your singing, I would recommend exploring exercises and practices that can help you develop your skills. If you have any more specific questions or concerns, please don't hesitate to reach out.\\n\\nBest regards,\\nSarah the Resident Manager\", raw_output=\"Dear Ringo,\\n\\nThank you for reaching out to us about your concerns with singing. I understand that it can be frustrating when you're having trouble with pitch accuracy. \\n\\nThe good news is that with practice and exercises, most people can learn to sing. Innate abilities can be developed and improved with practice and patience. You might be surprised to know that certain exercises like pole dancing and yoga can even help strengthen your core muscles, which can improve your vocal power.\\n\\nAdditionally, gargling warm salt water can help relieve inflammation and keep your throat moist. It's also important to note that congenital amusia, a disorder that affects 1 in every 75 people, can prevent people from hearing differences in pitch, tone, and rhythm. However, with practice, most people can learn to sing, regardless of innate talent.\\n\\nIf you're interested in improving your singing, I would recommend exploring exercises and practices that can help you develop your skills. If you have any more specific questions or concerns, please don't hesitate to reach out.\\n\\nBest regards,\\nSarah the Resident Manager\")]}\n",
      "{'total_tokens': 43029, 'prompt_tokens': 37944, 'completion_tokens': 5085, 'successful_requests': 54}\n"
     ]
    }
   ],
   "source": [
    "# Kick off the crew's work\n",
    "results = crew.kickoff()\n",
    "\n",
    "# Print the results\n",
    "print(\"Crew Work Results:\")\n",
    "print(results)\n",
    "\n",
    "# print(f\"Categorize Email: {categorize_email.output}\")\n",
    "print(crew.usage_metrics)"
   ]
  },
  {
   "cell_type": "code",
   "execution_count": 20,
   "metadata": {},
   "outputs": [
    {
     "name": "stdout",
     "output_type": "stream",
     "text": [
      "Dear Ringo,\n",
      "\n",
      "Thank you for reaching out to us about your concerns with singing. I understand that it can be frustrating when you're having trouble with pitch accuracy. \n",
      "\n",
      "The good news is that with practice and exercises, most people can learn to sing. Innate abilities can be developed and improved with practice and patience. You might be surprised to know that certain exercises like pole dancing and yoga can even help strengthen your core muscles, which can improve your vocal power.\n",
      "\n",
      "Additionally, gargling warm salt water can help relieve inflammation and keep your throat moist. It's also important to note that congenital amusia, a disorder that affects 1 in every 75 people, can prevent people from hearing differences in pitch, tone, and rhythm. However, with practice, most people can learn to sing, regardless of innate talent.\n",
      "\n",
      "If you're interested in improving your singing, I would recommend exploring exercises and practices that can help you develop your skills. If you have any more specific questions or concerns, please don't hesitate to reach out.\n",
      "\n",
      "Best regards,\n",
      "Sarah the Resident Manager\n"
     ]
    }
   ],
   "source": [
    "# Open and read the contents of the file\n",
    "with open('draft_email.txt', 'r') as file:\n",
    "    content = file.read()\n",
    "\n",
    "# Print the contents of the file\n",
    "print(content)\n"
   ]
  },
  {
   "cell_type": "code",
   "execution_count": 21,
   "metadata": {},
   "outputs": [
    {
     "name": "stdout",
     "output_type": "stream",
     "text": [
      "off_topic\n"
     ]
    }
   ],
   "source": [
    "# Open and read the contents of the file\n",
    "with open('email_category.txt', 'r') as file:\n",
    "    content = file.read()\n",
    "\n",
    "# Print the contents of the file\n",
    "print(content)"
   ]
  },
  {
   "cell_type": "code",
   "execution_count": 22,
   "metadata": {},
   "outputs": [
    {
     "name": "stdout",
     "output_type": "stream",
     "text": [
      "* Some people may struggle with singing due to pitch accuracy issues, but with practice and exercises, most people can learn to sing.\n",
      "* Innate abilities can be developed and improved with practice and patience.\n",
      "* Certain exercises like pole dancing and yoga can help strengthen core muscles, which can improve vocal power.\n",
      "* Gargling warm salt water can help relieve inflammation and keep the throat moist.\n",
      "* Congenital amusia is a disorder that affects 1 in every 75 people, preventing them from hearing differences in pitch, tone, and rhythm.\n",
      "* With practice, most people can learn to sing, regardless of innate talent.\n"
     ]
    }
   ],
   "source": [
    "# Open and read the contents of the file\n",
    "with open('research_info.txt', 'r') as file:\n",
    "    content = file.read()\n",
    "\n",
    "# Print the contents of the file\n",
    "print(content)"
   ]
  },
  {
   "cell_type": "code",
   "execution_count": null,
   "metadata": {},
   "outputs": [],
   "source": []
  }
 ],
 "metadata": {
  "kernelspec": {
   "display_name": "email_agent",
   "language": "python",
   "name": "python3"
  },
  "language_info": {
   "codemirror_mode": {
    "name": "ipython",
    "version": 3
   },
   "file_extension": ".py",
   "mimetype": "text/x-python",
   "name": "python",
   "nbconvert_exporter": "python",
   "pygments_lexer": "ipython3",
   "version": "3.10.14"
  }
 },
 "nbformat": 4,
 "nbformat_minor": 2
}
